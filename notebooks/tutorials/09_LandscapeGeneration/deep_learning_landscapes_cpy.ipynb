{
 "cells": [
  {
   "cell_type": "code",
   "execution_count": null,
   "metadata": {},
   "outputs": [],
   "source": [
    "#Only use if sandbox is not installed\n",
    "import os,sys\n",
    "sys.path.append('../../../')\n",
    "\n",
    "import warnings\n",
    "warnings.filterwarnings(\"ignore\")    \n",
    "\n"
   ]
  },
  {
   "cell_type": "markdown",
   "metadata": {},
   "source": [
    "## Before starting be sure you have some models in the checkpoints folder "
   ]
  },
  {
   "cell_type": "code",
   "execution_count": null,
   "metadata": {},
   "outputs": [],
   "source": [
    "from sandbox import _test_data\n",
    "if len(os.listdir(_test_data[\"landscape_generation\"] + \"checkpoints\")) == 0:\n",
    "    from warnings import warn \n",
    "    warn('No models to run! You need to download the files using Pooch' \n",
    "         '(Check README file \"Downloading sample datasets\")')\n",
    "    \n",
    "    from sandbox.utils.download_sample_datasets import (landscape_models, \n",
    "                                                        download_landscape_name)\n",
    "    \n",
    "    while True:\n",
    "        if input(\"Do you want to download an specific Trained model? [y/n]\") == \"y\":\n",
    "            print(\"Available models: %s\" % landscape_models)\n",
    "            model = input(\"Name of model to download:\")\n",
    "            download_landscape_name(model)\n",
    "        else:\n",
    "            break\n",
    "else:\n",
    "    print(\"Available models to run: \\n{}\".format(os.listdir(_test_data[\"landscape_generation\"] + \"checkpoints\")))"
   ]
  },
  {
   "cell_type": "markdown",
   "metadata": {},
   "source": [
    "## Initialize Sensor, Projector, marker detection and main thread"
   ]
  },
  {
   "cell_type": "code",
   "execution_count": null,
   "metadata": {},
   "outputs": [],
   "source": [
    "#save the paths to the calibration files \n",
    "from sandbox import _calibration_dir\n",
    "_calibprojector = _calibration_dir + \"my_projector_calibration.json\"\n",
    "_calibsensor = _calibration_dir + \"my_sensor_calibration.json\"\n",
    "\n",
    "\n",
    "#Import Sensor\n",
    "from sandbox.sensor import Sensor\n",
    "sensor = Sensor(calibsensor=_calibsensor, name=\"dummy\")\n",
    "\n",
    "# Import projector\n",
    "from sandbox.projector import Projector\n",
    "projector = Projector(calibprojector=_calibprojector)\n",
    "\n",
    "# Initialize marker detection\n",
    "from sandbox.markers import MarkerDetection\n",
    "aruco = MarkerDetection(sensor = sensor)\n",
    "\n",
    "\n",
    "# Initialize main thread for live update\n",
    "from sandbox.main_thread import MainThread\n",
    "main = MainThread(sensor=sensor, projector=projector, aruco=aruco)\n",
    "\n",
    "# Run main thread\n",
    "main.run()\n"
   ]
  },
  {
   "cell_type": "code",
   "execution_count": null,
   "metadata": {},
   "outputs": [],
   "source": [
    "main.run()"
   ]
  },
  {
   "cell_type": "code",
   "execution_count": null,
   "metadata": {},
   "outputs": [],
   "source": [
    "# Path to pytorch\n",
    "from sandbox import _package_dir\n",
    "package_dir=os.path.abspath(_package_dir+\"/../../pytorch-CycleGAN-and-pix2pix\")\n",
    "\n",
    "# Import the desired module\n",
    "from sandbox.modules.pytorch import LandscapeGeneration\n",
    "landscape = LandscapeGeneration(extent=sensor.extent, package_dir=package_dir)\n",
    "\n",
    "import os\n",
    "from sandbox import _test_data\n",
    "os.listdir(_test_data[\"landscape_generation\"] + \"checkpoints\")\n",
    "\n",
    "# Add module to main thread\n",
    "main.add_module('landscape', landscape)"
   ]
  },
  {
   "cell_type": "code",
   "execution_count": null,
   "metadata": {},
   "outputs": [],
   "source": [
    "assert len(landscape.name_trained_models)>0\n",
    "landscape.name_model = landscape.name_trained_models[0]\n",
    "\n",
    "#Now you can select which model you want to select, by default it will use the model that ppears first in the list\n",
    "print(\"Possible models: \", landscape.name_trained_models, \"\\n Model to use:\", landscape.name_model)"
   ]
  },
  {
   "cell_type": "code",
   "execution_count": null,
   "metadata": {},
   "outputs": [],
   "source": [
    "# Save snapchot of topography for a Pix2Pix model\n",
    "save_topo = landscape.LoadArea.extractTopo()\n",
    "assert landscape.LoadArea.absolute_topo is not None\n",
    "\n",
    "DEM = landscape.get_image_modify()\n",
    "\n",
    "landscape.save_image(DEM, name = 'landscape_image.png')"
   ]
  },
  {
   "cell_type": "code",
   "execution_count": null,
   "metadata": {},
   "outputs": [],
   "source": [
    "# Save snapchot of topography for a CycleGAN model\n",
    "save_topo = landscape.LoadArea.extractTopo()\n",
    "assert landscape.LoadArea.absolute_topo is not None\n",
    "\n",
    "DEM = landscape.get_image_modify_cycleGAN()\n",
    "\n",
    "landscape.save_image_cycleGAN(DEM, name = 'landscape_image.png')"
   ]
  },
  {
   "cell_type": "markdown",
   "metadata": {},
   "source": [
    "## Next command gives you the command to execute in the command line:"
   ]
  },
  {
   "cell_type": "code",
   "execution_count": null,
   "metadata": {},
   "outputs": [],
   "source": [
    "landscape.run_cmd()#package_dir=package_dir)"
   ]
  },
  {
   "cell_type": "markdown",
   "metadata": {},
   "source": [
    "## you can also run it inside a cell like so:"
   ]
  },
  {
   "cell_type": "code",
   "execution_count": null,
   "metadata": {
    "tags": []
   },
   "outputs": [],
   "source": [
    "# For example: !python A:\\\\CGRE\\\\pytorch-CycleGAN-and-pix2pix/test.py --dataroot A:\\\\CGRE\\\\open_AR_Sandbox\\\\notebooks\\\\tutorials\\\\09_LandscapeGeneration\\\\saved_DEMs --results_dir A:\\\\CGRE\\\\open_AR_Sandbox\\\\notebooks\\\\tutorials\\\\09_LandscapeGeneration\\\\results --checkpoints_dir A:\\\\CGRE\\\\open_AR_Sandbox\\\\notebooks\\\\tutorials\\\\09_LandscapeGeneration\\\\checkpoints --name Himalaya10x10_gist --model pix2pix --gpu_ids -1 --direction AtoB\n"
   ]
  },
  {
   "cell_type": "code",
   "execution_count": null,
   "metadata": {},
   "outputs": [],
   "source": []
  },
  {
   "cell_type": "code",
   "execution_count": null,
   "metadata": {},
   "outputs": [],
   "source": [
    "landscape.read_result(name = 'landscape_image.png')"
   ]
  },
  {
   "cell_type": "code",
   "execution_count": null,
   "metadata": {},
   "outputs": [],
   "source": [
    "import matplotlib.pyplot as plt\n",
    "main.stop()\n",
    "fig, ax = plt.subplots(1,2, figsize=(15,15))\n",
    "ax[0].imshow(landscape.DEM, origin=\"lower\", cmap = \"gist_earth\")\n",
    "ax[0].set_title(\"Real DEM Image\")\n",
    "ax[0].set_axis_off()\n",
    "\n",
    "ax[1].imshow(landscape.img,  extent=landscape.LoadArea.to_box_extent)\n",
    "ax[1].set_title(\"Generated Landscape Image\")\n",
    "ax[1].set_axis_off()\n",
    "plt.show()\n",
    "main.run()"
   ]
  },
  {
   "cell_type": "code",
   "execution_count": null,
   "metadata": {},
   "outputs": [],
   "source": [
    "landscape.show_landscape=True"
   ]
  },
  {
   "cell_type": "code",
   "execution_count": null,
   "metadata": {},
   "outputs": [],
   "source": []
  }
 ],
 "metadata": {
  "kernelspec": {
   "display_name": "Python 3 (ipykernel)",
   "language": "python",
   "name": "python3"
  },
  "language_info": {
   "codemirror_mode": {
    "name": "ipython",
    "version": 3
   },
   "file_extension": ".py",
   "mimetype": "text/x-python",
   "name": "python",
   "nbconvert_exporter": "python",
   "pygments_lexer": "ipython3",
   "version": "3.10.6"
  }
 },
 "nbformat": 4,
 "nbformat_minor": 4
}
